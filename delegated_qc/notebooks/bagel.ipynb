{
 "cells": [
  {
   "cell_type": "code",
   "execution_count": null,
   "id": "6bc0849c",
   "metadata": {},
   "outputs": [],
   "source": [
    "# Developing the whole protocol in this notebook first before converting into a library\n",
    "\n",
    "import numpy as np\n",
    "import matplotlib.pyplot as plt\n",
    "import pandas as pd\n",
    "import qiskit\n",
    "\n",
    "\n",
    "class prover:\n",
    "    def __init__(self, backend, mem_size, args=None, kwargs=None):\n",
    "        self.backend = backend\n",
    "        self.mem_size = mem_size\n",
    "        self.args = args\n",
    "        self.kwargs = kwargs\n",
    "\n",
    "class verifier:\n",
    "    def __init__(self):\n",
    "        pass\n",
    "\n",
    "class channel:\n",
    "    def __init__(self, node1=None, node2=None):\n",
    "        self.node1 = node1\n",
    "        self.node2 = node2\n",
    "\n",
    "def ruv_protocol(verifier, prover, number=1):\n",
    "    pass\n",
    "\n",
    "def VDBQC(input, circuit):\n",
    "    pass\n",
    "\n",
    "\n"
   ]
  }
 ],
 "metadata": {
  "language_info": {
   "name": "python"
  }
 },
 "nbformat": 4,
 "nbformat_minor": 5
}
